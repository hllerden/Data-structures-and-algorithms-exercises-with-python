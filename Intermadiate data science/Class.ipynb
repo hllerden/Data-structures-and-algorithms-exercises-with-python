{
 "cells": [
  {
   "cell_type": "markdown",
   "id": "869594aa",
   "metadata": {},
   "source": [
    "# Class tanımlamak"
   ]
  },
  {
   "cell_type": "markdown",
   "id": "06ba82cb",
   "metadata": {},
   "source": [
    "* fonksiyonlarda belirli fonsiyonalite ifade eden kodları bir arada tutma yolu\n"
   ]
  },
  {
   "cell_type": "markdown",
   "id": "3f6e996b",
   "metadata": {},
   "source": [
    "* Class'ın içerisindeki veri(data)'lara **attribute**, fonksiyonlara **metod** denir."
   ]
  },
  {
   "cell_type": "markdown",
   "id": "9aef827b",
   "metadata": {},
   "source": [
    "* Diyalim ki bir iş yeri çalışanları kodumuzda ifade etmek istiyoruz. Sanki bu **class** mantığı ile uyumlu. Her çalışanın farklı farklı özellikleri (*attribute*)'ları ve yaptıkları şeyler metodları olucak.\n"
   ]
  },
  {
   "cell_type": "markdown",
   "id": "a0159216",
   "metadata": {},
   "source": [
    "* Fonksiyon tanımlanırken **def** kullanıyorduk, class tanımlarken **class** ile tanımlayacağız.\n"
   ]
  },
  {
   "cell_type": "markdown",
   "id": "e230f93c",
   "metadata": {},
   "source": [
    "* Class'ın içerinde method yaratırken, classtan yaratılan objeji methodlar ile argüman alırlar. istediğimiz adı verebiliriz ama genellikle **Self** diyoruz."
   ]
  },
  {
   "cell_type": "markdown",
   "id": "c3987bbc",
   "metadata": {},
   "source": [
    "## Attribute"
   ]
  },
  {
   "cell_type": "code",
   "execution_count": null,
   "id": "f049a303",
   "metadata": {},
   "outputs": [
    {
     "ename": "",
     "evalue": "",
     "output_type": "error",
     "traceback": [
      "\u001b[1;31mFailed to start the Kernel. \n",
      "\u001b[1;31mJupyter server crashed. Unable to connect. \n",
      "\u001b[1;31mError code from Jupyter: 1\n",
      "\u001b[1;31m/home/halil/.local/lib/python3.12/site-packages/traitlets/traitlets.py:2548: FutureWarning: Supporting extra quotes around strings is deprecated in traitlets 5.0. You can use '/home/halil/Belgeler/Kodlama calismalari/py/Patika/Intermadiate data science' instead of '\"/home/halil/Belgeler/Kodlama calismalari/py/Patika/Intermadiate data science\"' if you require traitlets >=5.\n",
      "\u001b[1;31m  warn(\n",
      "\u001b[1;31m\n",
      "\u001b[1;31m[I 15:13:50.150 NotebookApp] Loading IPython parallel extension\n",
      "\u001b[1;31m\n",
      "\u001b[1;31mTraceback (most recent call last):\n",
      "\u001b[1;31m  File \"/home/halil/.local/bin/jupyter-notebook\", line 8, in <module>\n",
      "\u001b[1;31m    sys.exit(main())\n",
      "\u001b[1;31m\n",
      "\u001b[1;31m             ^^^^^^\n",
      "\u001b[1;31m  File \"/home/halil/.local/lib/python3.12/site-packages/jupyter_core/application.py\", line 277, in launch_instance\n",
      "\u001b[1;31m    return super().launch_instance(argv=argv, **kwargs)\n",
      "\u001b[1;31m\n",
      "\u001b[1;31m           ^^^^^^^^^^^^^^^^^^^^^^^^^^^^^\n",
      "\u001b[1;31m^^^^^^^^^^^^^^^\n",
      "\u001b[1;31m  File \"/home/halil/.local/lib/python3.12/site-packages/traitlets/config/application.py\", line 1043, in launch_instance\n",
      "\u001b[1;31m\n",
      "\u001b[1;31m    app.start()\n",
      "\u001b[1;31m\n",
      "\u001b[1;31m  File \"/home/halil/.local/lib/python3.12/site-packages/notebook/notebookapp.py\", line 2320, in start\n",
      "\u001b[1;31m\n",
      "\u001b[1;31m    success = self._bind_http_server()\n",
      "\u001b[1;31m\n",
      "\u001b[1;31m              ^^^^^^^^^^^^^^^^^^^^^^^^\n",
      "\u001b[1;31m  File \"/home/halil/.local/lib/python3.12/site-packages/notebook/notebookapp.py\", line 1795, in _bind_http_server\n",
      "\u001b[1;31m\n",
      "\u001b[1;31m    return self._bind_http_server_unix() if self.sock else self._bind_http_server_tcp()\n",
      "\u001b[1;31m   \n",
      "\u001b[1;31m                                                        ^^^^^^^^^\n",
      "\u001b[1;31m^^^^^^^^^^^^^^^^^^^\n",
      "\u001b[1;31m  File \"/home/halil/.local/lib/python3.12/site-packages/notebook/notebookapp.py\", line 1821, in _bind_http_server_tcp\n",
      "\u001b[1;31m\n",
      "\u001b[1;31m    self.http_server.listen(port, self.ip)\n",
      "\u001b[1;31m\n",
      "\u001b[1;31m  File \"/home/halil/.local/lib/python3.12/site-packages/tornado/tcpserver.py\", line 191, in listen\n",
      "\u001b[1;31m    self.add_sockets(sockets)\n",
      "\u001b[1;31m  File \"/home/halil/.local/lib/python3.12/site-packages/tornado/tcpserver.py\", line 204, in add_sockets\n",
      "\u001b[1;31m\n",
      "\u001b[1;31m    self._handlers[sock.fileno()] = add_accept_handler(\n",
      "\u001b[1;31m                                    ^^^^\n",
      "\u001b[1;31m^^^^^^^^^^^^^^^\n",
      "\u001b[1;31m  File \"/home/halil/.local/lib/python3.12/site-packages/tornado/netutil.py\", line 247, in add_accept_handler\n",
      "\u001b[1;31m    io_loop = IOLoop.current()\n",
      "\u001b[1;31m \n",
      "\u001b[1;31m             ^^^^^^^^^^^^^^^^\n",
      "\u001b[1;31m  File \"/home/halil/.local/lib/python3.12/site-packages/tornado/ioloop.py\", line 265, in current\n",
      "\u001b[1;31m\n",
      "\u001b[1;31m    loop = asyncio.get_event_loop()\n",
      "\u001b[1;31m           ^^^^^^^^^^^^^^^^^^^^^^^^\n",
      "\u001b[1;31m  File \"/home/halil/.local/lib/python3.12/site-packages/nest_asyncio.py\", line 45, in _get_event_loop\n",
      "\u001b[1;31m\n",
      "\u001b[1;31m    loop = events.get_event_loop_policy().get_event_loop()\n",
      "\u001b[1;31m           ^^^^^^^^^^^^^^^^^^^^^^^^^^\n",
      "\u001b[1;31m^^^^^^^^^^^^^^^^^^^^^\n",
      "\u001b[1;31m  File \"/usr/local/lib/python3.12/asyncio/events.py\", line 676, in get_event_loop\n",
      "\u001b[1;31m\n",
      "\u001b[1;31m    raise RuntimeError('There is no current event loop in thread %r.'\n",
      "\u001b[1;31mRuntimeError: There is no current event loop in thread 'MainThread'. \n",
      "\u001b[1;31mView Jupyter <a href='command:jupyter.viewOutput'>log</a> for further details."
     ]
    }
   ],
   "source": [
    "class Employee:\n",
    "    "
   ]
  },
  {
   "cell_type": "code",
   "execution_count": 2,
   "id": "d28512e8",
   "metadata": {},
   "outputs": [],
   "source": [
    "class Employee:\n",
    "    pass"
   ]
  },
  {
   "cell_type": "code",
   "execution_count": 3,
   "id": "f0d238ab",
   "metadata": {},
   "outputs": [],
   "source": [
    "e=Employee()"
   ]
  },
  {
   "cell_type": "code",
   "execution_count": 4,
   "id": "bf0093de",
   "metadata": {},
   "outputs": [],
   "source": [
    "# e objesine \"a\" attribute'u ekledik\n",
    "e.a=4"
   ]
  },
  {
   "cell_type": "code",
   "execution_count": 5,
   "id": "2b334704",
   "metadata": {},
   "outputs": [
    {
     "data": {
      "text/plain": [
       "4"
      ]
     },
     "execution_count": 5,
     "metadata": {},
     "output_type": "execute_result"
    }
   ],
   "source": [
    "e.a\n"
   ]
  },
  {
   "cell_type": "markdown",
   "id": "ad6fd4ac",
   "metadata": {},
   "source": [
    "* Böyle tek tek belirtmek yerine en başta oluştururken toplu olarak ta belirtebiliriz."
   ]
  },
  {
   "cell_type": "code",
   "execution_count": 6,
   "id": "9af70aa4",
   "metadata": {},
   "outputs": [],
   "source": [
    "class Employee:\n",
    "    def __init__(self,name,last,age,pay):\n",
    "        self.name=name\n",
    "        self.last=last\n",
    "        self.age=age\n",
    "        self.pay=pay"
   ]
  },
  {
   "cell_type": "markdown",
   "id": "075ea08b",
   "metadata": {},
   "source": [
    "* Class bunlardan **objeleri**'ler yaratmak için bir kalıptır sadece!!"
   ]
  },
  {
   "cell_type": "code",
   "execution_count": 7,
   "id": "dea156d4",
   "metadata": {},
   "outputs": [],
   "source": [
    "emp_1 = Employee(\"James\",\"Hughes\",\"32\",5000)"
   ]
  },
  {
   "cell_type": "markdown",
   "id": "78c9384d",
   "metadata": {},
   "source": [
    "* yukarıda yarattığımız bir obje oldu. Employee classın bir objesi"
   ]
  },
  {
   "cell_type": "code",
   "execution_count": 9,
   "id": "f57ece25",
   "metadata": {},
   "outputs": [],
   "source": [
    "emp_2 = Employee(\"Charlie\",\"Brown\",\"22\",3000)"
   ]
  },
  {
   "cell_type": "code",
   "execution_count": 10,
   "id": "051c5d35",
   "metadata": {},
   "outputs": [
    {
     "data": {
      "text/plain": [
       "'James'"
      ]
     },
     "execution_count": 10,
     "metadata": {},
     "output_type": "execute_result"
    }
   ],
   "source": [
    "emp_1.name"
   ]
  },
  {
   "cell_type": "markdown",
   "id": "b9c7a154",
   "metadata": {},
   "source": [
    "* Burada yarattığımız bütün attriburye'lar **instance veriable**. Her obje (classtan yaratılan instance), kendine özel attribute'a sahip (iki kişinin adı aynı olabilir, ama hepsi için ayrı bir veriable var ve hepsi kendi age attribute'unda tutuluyor)"
   ]
  },
  {
   "cell_type": "markdown",
   "id": "fecc77d3",
   "metadata": {},
   "source": [
    "## Method"
   ]
  },
  {
   "cell_type": "code",
   "execution_count": 11,
   "id": "2baf4c8d",
   "metadata": {},
   "outputs": [],
   "source": [
    "class Employee:\n",
    "    def __init__(self,name,last,age,pay):\n",
    "        self.name=name\n",
    "        self.last=last\n",
    "        self.age=age\n",
    "        self.pay=pay\n",
    "        \n",
    "    def fullname(self):\n",
    "        print(f\"{self.name} {self.last}\")"
   ]
  },
  {
   "cell_type": "code",
   "execution_count": 12,
   "id": "ab8dbe0d",
   "metadata": {},
   "outputs": [],
   "source": [
    "emp_1 = Employee(\"James\",\"Hughes\",\"32\",5000)"
   ]
  },
  {
   "cell_type": "code",
   "execution_count": 13,
   "id": "da0c6e2b",
   "metadata": {},
   "outputs": [],
   "source": [
    "emp_2 = Employee(\"Charlie\",\"Brown\",\"22\",3000)"
   ]
  },
  {
   "cell_type": "code",
   "execution_count": 14,
   "id": "ff23eebc",
   "metadata": {},
   "outputs": [
    {
     "name": "stdout",
     "output_type": "stream",
     "text": [
      "James Hughes\n"
     ]
    }
   ],
   "source": [
    "emp_1.fullname()"
   ]
  },
  {
   "cell_type": "code",
   "execution_count": 15,
   "id": "5b54e4a6",
   "metadata": {},
   "outputs": [
    {
     "name": "stdout",
     "output_type": "stream",
     "text": [
      "Charlie Brown\n"
     ]
    }
   ],
   "source": [
    "emp_2.fullname()"
   ]
  },
  {
   "cell_type": "markdown",
   "id": "c8544652",
   "metadata": {},
   "source": [
    "* self otomatik olarak aktarılıyor demiştim. eğer self'i argüman olarak vermezsek"
   ]
  },
  {
   "cell_type": "code",
   "execution_count": 16,
   "id": "81a9c9ed",
   "metadata": {},
   "outputs": [],
   "source": [
    "class Employee:\n",
    "    def __init__(self,name,last,age,pay):\n",
    "        self.name=name\n",
    "        self.last=last\n",
    "        self.age=age\n",
    "        self.pay=pay\n",
    "        \n",
    "    def fullname():\n",
    "        print(f\"{self.name} {self.last}\")"
   ]
  },
  {
   "cell_type": "code",
   "execution_count": 17,
   "id": "fd3e8305",
   "metadata": {},
   "outputs": [],
   "source": [
    "emp_1 = Employee(\"James\",\"Hughes\",\"32\",5000)"
   ]
  },
  {
   "cell_type": "code",
   "execution_count": 18,
   "id": "714ff759",
   "metadata": {},
   "outputs": [
    {
     "ename": "TypeError",
     "evalue": "fullname() takes 0 positional arguments but 1 was given",
     "output_type": "error",
     "traceback": [
      "\u001b[0;31m---------------------------------------------------------------------------\u001b[0m",
      "\u001b[0;31mTypeError\u001b[0m                                 Traceback (most recent call last)",
      "Cell \u001b[0;32mIn[18], line 1\u001b[0m\n\u001b[0;32m----> 1\u001b[0m \u001b[43memp_1\u001b[49m\u001b[38;5;241;43m.\u001b[39;49m\u001b[43mfullname\u001b[49m\u001b[43m(\u001b[49m\u001b[43m)\u001b[49m\n",
      "\u001b[0;31mTypeError\u001b[0m: fullname() takes 0 positional arguments but 1 was given"
     ]
    }
   ],
   "source": [
    "emp_1.fullname()"
   ]
  },
  {
   "cell_type": "markdown",
   "id": "af18cb53",
   "metadata": {},
   "source": [
    "* self otomatik olarak verildiği için, method tanımında onu belirtmezsek hata alıyoruz"
   ]
  },
  {
   "cell_type": "markdown",
   "id": "ec2d2467",
   "metadata": {},
   "source": [
    "# Class Veriable"
   ]
  },
  {
   "cell_type": "code",
   "execution_count": 22,
   "id": "bde4a4e4",
   "metadata": {},
   "outputs": [],
   "source": [
    "class Employee:\n",
    "    def __init__(self,name,last,age,pay):\n",
    "        self.name=name\n",
    "        self.last=last\n",
    "        self.age=age\n",
    "        self.pay=pay"
   ]
  },
  {
   "cell_type": "code",
   "execution_count": 23,
   "id": "221e30de",
   "metadata": {},
   "outputs": [],
   "source": [
    "emp_1 = Employee(\"James\",\"Hughes\",\"32\",5000)"
   ]
  },
  {
   "cell_type": "code",
   "execution_count": 24,
   "id": "5d3a6803",
   "metadata": {},
   "outputs": [],
   "source": [
    "emp_2 = Employee(\"Charlie\",\"Brown\",\"22\",3000)\n"
   ]
  },
  {
   "cell_type": "markdown",
   "id": "11801055",
   "metadata": {},
   "source": [
    "* **Instance Veriable :** Class'tan yaratılan objelerin kendilerine özgü değişkenleri. Bu örnektedi name,last,age,pat gibi"
   ]
  },
  {
   "cell_type": "markdown",
   "id": "acb2b66f",
   "metadata": {},
   "source": [
    "* **Class Veriable :** Class'tan yaratılan tüm objelerde paylaşılan değişkenler"
   ]
  },
  {
   "cell_type": "markdown",
   "id": "1e69d11a",
   "metadata": {},
   "source": [
    "* Instance veriable her obje için farklı olabilir, ama class veriable hepsi için aynı olmak zorunda"
   ]
  },
  {
   "cell_type": "markdown",
   "id": "529bb83b",
   "metadata": {},
   "source": [
    "* Tüm çalışanlar kendi arasında hangi verinin paylaşılmasını isteyebilirim? Mesela şirket herkese aynı yüzdelik zam uyguluyorsa bunun yüzdesini class veriable'ı olarak tutabilirim."
   ]
  },
  {
   "cell_type": "code",
   "execution_count": 31,
   "id": "2e75610f",
   "metadata": {},
   "outputs": [],
   "source": [
    "class Employee:\n",
    "    \n",
    "    raise_percent = 1.05\n",
    "    \n",
    "    def __init__(self,name,last,age,pay):\n",
    "        self.name=name\n",
    "        self.last=last\n",
    "        self.age=age\n",
    "        self.pay=pay\n",
    "        \n",
    "    def apply_raise(self):\n",
    "        self.pay = self.pay * raise_percent\n",
    "        "
   ]
  },
  {
   "cell_type": "code",
   "execution_count": 32,
   "id": "52a06e30",
   "metadata": {},
   "outputs": [],
   "source": [
    "emp_1 = Employee(\"James\",\"Hughes\",\"32\",5000)"
   ]
  },
  {
   "cell_type": "code",
   "execution_count": 33,
   "id": "9a9864e8",
   "metadata": {},
   "outputs": [
    {
     "ename": "NameError",
     "evalue": "name 'raise_percent' is not defined",
     "output_type": "error",
     "traceback": [
      "\u001b[0;31m---------------------------------------------------------------------------\u001b[0m",
      "\u001b[0;31mNameError\u001b[0m                                 Traceback (most recent call last)",
      "Cell \u001b[0;32mIn[33], line 1\u001b[0m\n\u001b[0;32m----> 1\u001b[0m \u001b[43memp_1\u001b[49m\u001b[38;5;241;43m.\u001b[39;49m\u001b[43mapply_raise\u001b[49m\u001b[43m(\u001b[49m\u001b[43m)\u001b[49m\n",
      "Cell \u001b[0;32mIn[31], line 12\u001b[0m, in \u001b[0;36mEmployee.apply_raise\u001b[0;34m(self)\u001b[0m\n\u001b[1;32m     11\u001b[0m \u001b[38;5;28;01mdef\u001b[39;00m \u001b[38;5;21mapply_raise\u001b[39m(\u001b[38;5;28mself\u001b[39m):\n\u001b[0;32m---> 12\u001b[0m     \u001b[38;5;28mself\u001b[39m\u001b[38;5;241m.\u001b[39mpay \u001b[38;5;241m=\u001b[39m \u001b[38;5;28mself\u001b[39m\u001b[38;5;241m.\u001b[39mpay \u001b[38;5;241m*\u001b[39m \u001b[43mraise_percent\u001b[49m\n",
      "\u001b[0;31mNameError\u001b[0m: name 'raise_percent' is not defined"
     ]
    }
   ],
   "source": [
    "emp_1.apply_raise()"
   ]
  },
  {
   "cell_type": "markdown",
   "id": "64d56df3",
   "metadata": {},
   "source": [
    "* Class veriable'larına ulaşmak için ya genel Class üzerinden ya da o sırada oluşturduğumuz obje üzerinden ulaşmamız lazım"
   ]
  },
  {
   "cell_type": "code",
   "execution_count": 34,
   "id": "3181835e",
   "metadata": {},
   "outputs": [
    {
     "data": {
      "text/plain": [
       "1.05"
      ]
     },
     "execution_count": 34,
     "metadata": {},
     "output_type": "execute_result"
    }
   ],
   "source": [
    "emp_1.raise_percent"
   ]
  },
  {
   "cell_type": "code",
   "execution_count": 35,
   "id": "cc5f4357",
   "metadata": {},
   "outputs": [
    {
     "data": {
      "text/plain": [
       "1.05"
      ]
     },
     "execution_count": 35,
     "metadata": {},
     "output_type": "execute_result"
    }
   ],
   "source": [
    "Employee.raise_percent"
   ]
  },
  {
   "cell_type": "code",
   "execution_count": 45,
   "id": "8f2fb1e8",
   "metadata": {},
   "outputs": [],
   "source": [
    "class Employee:\n",
    "    \n",
    "    raise_percent = 1.05\n",
    "    \n",
    "    def __init__(self,name,last,age,pay):\n",
    "        self.name=name\n",
    "        self.last=last\n",
    "        self.age=age\n",
    "        self.pay=pay\n",
    "        \n",
    "    def apply_raise(self):\n",
    "        self.pay = self.pay * self.raise_percent\n",
    "        "
   ]
  },
  {
   "cell_type": "code",
   "execution_count": 46,
   "id": "c03beeb0",
   "metadata": {},
   "outputs": [],
   "source": [
    "emp_1 = Employee(\"James\",\"Hughes\",\"32\",5000)"
   ]
  },
  {
   "cell_type": "code",
   "execution_count": 47,
   "id": "12522228",
   "metadata": {},
   "outputs": [],
   "source": [
    "emp_2 = Employee(\"Charlie\",\"Brown\",\"22\",3000)"
   ]
  },
  {
   "cell_type": "code",
   "execution_count": 48,
   "id": "fb47e209",
   "metadata": {},
   "outputs": [
    {
     "data": {
      "text/plain": [
       "5000"
      ]
     },
     "execution_count": 48,
     "metadata": {},
     "output_type": "execute_result"
    }
   ],
   "source": [
    "emp_1.pay"
   ]
  },
  {
   "cell_type": "code",
   "execution_count": 49,
   "id": "6bdf739b",
   "metadata": {},
   "outputs": [],
   "source": [
    "emp_1.apply_raise()"
   ]
  },
  {
   "cell_type": "code",
   "execution_count": 50,
   "id": "1520b2cb",
   "metadata": {},
   "outputs": [
    {
     "data": {
      "text/plain": [
       "5250.0"
      ]
     },
     "execution_count": 50,
     "metadata": {},
     "output_type": "execute_result"
    }
   ],
   "source": [
    "emp_1.pay"
   ]
  },
  {
   "cell_type": "code",
   "execution_count": 51,
   "id": "80f50731",
   "metadata": {},
   "outputs": [
    {
     "data": {
      "text/plain": [
       "3000"
      ]
     },
     "execution_count": 51,
     "metadata": {},
     "output_type": "execute_result"
    }
   ],
   "source": [
    "emp_2.pay"
   ]
  },
  {
   "cell_type": "code",
   "execution_count": 52,
   "id": "ce252d1d",
   "metadata": {},
   "outputs": [],
   "source": [
    "emp_2.apply_raise()"
   ]
  },
  {
   "cell_type": "code",
   "execution_count": 53,
   "id": "654b86bc",
   "metadata": {},
   "outputs": [
    {
     "data": {
      "text/plain": [
       "3150.0"
      ]
     },
     "execution_count": 53,
     "metadata": {},
     "output_type": "execute_result"
    }
   ],
   "source": [
    "emp_2.pay"
   ]
  },
  {
   "cell_type": "markdown",
   "id": "6ce27389",
   "metadata": {},
   "source": [
    "* emp_1.raise_percent -> ilk olarak bu instance a bakar, eğer bulamazsa class veriable olarak var mı diye bakar"
   ]
  },
  {
   "cell_type": "code",
   "execution_count": 54,
   "id": "9e51be0d",
   "metadata": {},
   "outputs": [
    {
     "name": "stdout",
     "output_type": "stream",
     "text": [
      "{'name': 'James', 'last': 'Hughes', 'age': '32', 'pay': 5250.0}\n"
     ]
    }
   ],
   "source": [
    "print(emp_1.__dict__) # objenin attributelarını döndürür."
   ]
  },
  {
   "cell_type": "code",
   "execution_count": 55,
   "id": "f659ffbb",
   "metadata": {},
   "outputs": [
    {
     "name": "stdout",
     "output_type": "stream",
     "text": [
      "<class '__main__.Employee'>\n"
     ]
    }
   ],
   "source": [
    "print(type(emp_1))"
   ]
  },
  {
   "cell_type": "code",
   "execution_count": 56,
   "id": "84e39182",
   "metadata": {},
   "outputs": [
    {
     "name": "stdout",
     "output_type": "stream",
     "text": [
      "{'__module__': '__main__', 'raise_percent': 1.05, '__init__': <function Employee.__init__ at 0x7f975c318430>, 'apply_raise': <function Employee.apply_raise at 0x7f975c3180d0>, '__dict__': <attribute '__dict__' of 'Employee' objects>, '__weakref__': <attribute '__weakref__' of 'Employee' objects>, '__doc__': None}\n"
     ]
    }
   ],
   "source": [
    "print(Employee.__dict__)"
   ]
  },
  {
   "cell_type": "code",
   "execution_count": 57,
   "id": "c47a1010",
   "metadata": {},
   "outputs": [],
   "source": [
    "emp_1.experience=10"
   ]
  },
  {
   "cell_type": "code",
   "execution_count": 58,
   "id": "92a44eeb",
   "metadata": {},
   "outputs": [
    {
     "name": "stdout",
     "output_type": "stream",
     "text": [
      "{'name': 'James', 'last': 'Hughes', 'age': '32', 'pay': 5250.0, 'experience': 10}\n"
     ]
    }
   ],
   "source": [
    "print(emp_1.__dict__) # objenin attributelarını döndürür."
   ]
  },
  {
   "cell_type": "code",
   "execution_count": 59,
   "id": "41470d60",
   "metadata": {
    "scrolled": true
   },
   "outputs": [
    {
     "name": "stdout",
     "output_type": "stream",
     "text": [
      "1.05\n",
      "1.05\n",
      "1.05\n"
     ]
    }
   ],
   "source": [
    "print(emp_1.raise_percent)\n",
    "print(emp_2.raise_percent)\n",
    "print(Employee.raise_percent)"
   ]
  },
  {
   "cell_type": "code",
   "execution_count": 60,
   "id": "e30fa369",
   "metadata": {},
   "outputs": [],
   "source": [
    "Employee.raise_percent =1.06"
   ]
  },
  {
   "cell_type": "markdown",
   "id": "552749cd",
   "metadata": {},
   "source": [
    "* Class veriable'ı **class üzerinde** güncellemek hepsinde günceller"
   ]
  },
  {
   "cell_type": "code",
   "execution_count": 61,
   "id": "60076f19",
   "metadata": {},
   "outputs": [
    {
     "name": "stdout",
     "output_type": "stream",
     "text": [
      "1.06\n",
      "1.06\n",
      "1.06\n"
     ]
    }
   ],
   "source": [
    "print(emp_1.raise_percent)\n",
    "print(emp_2.raise_percent)\n",
    "print(Employee.raise_percent)"
   ]
  },
  {
   "cell_type": "markdown",
   "id": "89a6ea92",
   "metadata": {},
   "source": [
    "* Class veriable'ı **instance(classtan oluşturulan bir obje) üzerinde** güncellemek, sadece o objenin o değerini günceller !"
   ]
  },
  {
   "cell_type": "code",
   "execution_count": null,
   "id": "f1486dcf",
   "metadata": {},
   "outputs": [],
   "source": [
    "emp_1.raise_percent = 1.07"
   ]
  },
  {
   "cell_type": "markdown",
   "id": "329d0bcd",
   "metadata": {},
   "source": [
    "* çünkü normalde kendi üzerinde o attribute olmadığı için class'a bakardı artık kendisinde o attribute değeri yaratıldı"
   ]
  },
  {
   "cell_type": "code",
   "execution_count": 63,
   "id": "8c703dd4",
   "metadata": {},
   "outputs": [
    {
     "name": "stdout",
     "output_type": "stream",
     "text": [
      "1.07\n",
      "1.06\n",
      "1.06\n"
     ]
    }
   ],
   "source": [
    "print(emp_1.raise_percent)\n",
    "print(emp_2.raise_percent)\n",
    "print(Employee.raise_percent)"
   ]
  },
  {
   "cell_type": "code",
   "execution_count": 64,
   "id": "b48aa40f",
   "metadata": {},
   "outputs": [
    {
     "name": "stdout",
     "output_type": "stream",
     "text": [
      "{'name': 'James', 'last': 'Hughes', 'age': '32', 'pay': 5250.0, 'experience': 10, 'raise_percent': 1.07}\n"
     ]
    }
   ],
   "source": [
    "print(emp_1.__dict__) # objenin attributelarını döndürür."
   ]
  },
  {
   "cell_type": "code",
   "execution_count": 66,
   "id": "8c25fb1a",
   "metadata": {},
   "outputs": [
    {
     "name": "stdout",
     "output_type": "stream",
     "text": [
      "{'name': 'Charlie', 'last': 'Brown', 'age': '22', 'pay': 3150.0}\n"
     ]
    }
   ],
   "source": [
    "print(emp_2.__dict__) # objenin attributelarını döndürür."
   ]
  },
  {
   "cell_type": "code",
   "execution_count": 67,
   "id": "a1f0b215",
   "metadata": {},
   "outputs": [
    {
     "name": "stdout",
     "output_type": "stream",
     "text": [
      "1.07\n",
      "1.06\n",
      "1.06\n"
     ]
    }
   ],
   "source": [
    "print(emp_1.raise_percent)\n",
    "print(emp_2.raise_percent)\n",
    "print(Employee.raise_percent)"
   ]
  },
  {
   "cell_type": "markdown",
   "id": "fa920cba",
   "metadata": {},
   "source": [
    "## Kaç Tane Çalışan Olduğunu Class Veriable'ı Olarak Tutmak"
   ]
  },
  {
   "cell_type": "markdown",
   "id": "4349ed98",
   "metadata": {},
   "source": [
    "* Her yeni çalışan geldiğinde toplam çalışanı 1 arttırmak istiyorum"
   ]
  },
  {
   "cell_type": "code",
   "execution_count": 68,
   "id": "5cc7ad24",
   "metadata": {},
   "outputs": [],
   "source": [
    "class Employee:\n",
    "    \n",
    "    raise_percent = 1.05\n",
    "    num_emp = 0 \n",
    "    \n",
    "    def __init__(self,name,last,age,pay):\n",
    "        self.name=name\n",
    "        self.last=last\n",
    "        self.age=age\n",
    "        self.pay=pay\n",
    "        Employee.num_emp += 1\n",
    "        \n",
    "    def apply_raise(self):\n",
    "        self.pay = self.pay * self.raise_percent"
   ]
  },
  {
   "cell_type": "code",
   "execution_count": 69,
   "id": "5e977a16",
   "metadata": {},
   "outputs": [
    {
     "data": {
      "text/plain": [
       "0"
      ]
     },
     "execution_count": 69,
     "metadata": {},
     "output_type": "execute_result"
    }
   ],
   "source": [
    "Employee.num_emp"
   ]
  },
  {
   "cell_type": "code",
   "execution_count": 70,
   "id": "1ab94c25",
   "metadata": {},
   "outputs": [],
   "source": [
    "emp_1 = Employee(\"James\",\"Hughes\",\"32\",5000)"
   ]
  },
  {
   "cell_type": "code",
   "execution_count": 71,
   "id": "138b65ee",
   "metadata": {},
   "outputs": [
    {
     "data": {
      "text/plain": [
       "1"
      ]
     },
     "execution_count": 71,
     "metadata": {},
     "output_type": "execute_result"
    }
   ],
   "source": [
    "Employee.num_emp"
   ]
  },
  {
   "cell_type": "code",
   "execution_count": 72,
   "id": "ffdd38f2",
   "metadata": {},
   "outputs": [],
   "source": [
    "emp_2 = Employee(\"Charlie\",\"Brown\",\"22\",3000)"
   ]
  },
  {
   "cell_type": "code",
   "execution_count": 73,
   "id": "5e47476e",
   "metadata": {},
   "outputs": [
    {
     "data": {
      "text/plain": [
       "2"
      ]
     },
     "execution_count": 73,
     "metadata": {},
     "output_type": "execute_result"
    }
   ],
   "source": [
    "Employee.num_emp"
   ]
  },
  {
   "cell_type": "markdown",
   "id": "97fa05bf",
   "metadata": {},
   "source": [
    "# Class Method"
   ]
  },
  {
   "cell_type": "markdown",
   "id": "27cfcce7",
   "metadata": {},
   "source": [
    "* @classmethod decorator methodu ilk argüman olarak instance almak yerine class'ı alacak şekilde günceller."
   ]
  },
  {
   "cell_type": "code",
   "execution_count": 74,
   "id": "ab05492d",
   "metadata": {},
   "outputs": [],
   "source": [
    "class Employee:\n",
    "    \n",
    "    raise_percent = 1.05\n",
    "    num_emp = 0 \n",
    "    \n",
    "    def __init__(self,name,last,age,pay):\n",
    "        self.name=name\n",
    "        self.last=last\n",
    "        self.age=age\n",
    "        self.pay=pay\n",
    "        Employee.num_emp += 1\n",
    "        \n",
    "    def apply_raise(self):\n",
    "        self.pay = self.pay * self.raise_percent\n",
    "        \n",
    "    @classmethod    \n",
    "    def set_raise(cls,amount):\n",
    "        cls.raise_percent = amount"
   ]
  },
  {
   "cell_type": "code",
   "execution_count": 75,
   "id": "6ee13b8b",
   "metadata": {},
   "outputs": [],
   "source": [
    "emp_1 = Employee(\"James\",\"Hughes\",\"32\",5000)"
   ]
  },
  {
   "cell_type": "code",
   "execution_count": 76,
   "id": "764d76f7",
   "metadata": {},
   "outputs": [],
   "source": [
    "emp_2 = Employee(\"Charlie\",\"Brown\",\"22\",3000)"
   ]
  },
  {
   "cell_type": "code",
   "execution_count": 77,
   "id": "a769b9cc",
   "metadata": {},
   "outputs": [],
   "source": [
    "Employee.set_raise(1.6)"
   ]
  },
  {
   "cell_type": "code",
   "execution_count": 78,
   "id": "2d565fee",
   "metadata": {},
   "outputs": [
    {
     "name": "stdout",
     "output_type": "stream",
     "text": [
      "1.6\n",
      "1.6\n",
      "1.6\n"
     ]
    }
   ],
   "source": [
    "print(emp_1.raise_percent)\n",
    "print(emp_2.raise_percent)\n",
    "print(Employee.raise_percent)"
   ]
  },
  {
   "cell_type": "markdown",
   "id": "f4b62625",
   "metadata": {},
   "source": [
    "## Alternative Constructor"
   ]
  },
  {
   "cell_type": "markdown",
   "id": "5b878ba5",
   "metadata": {},
   "source": [
    "* Diyelimki bize class'ı oluştururken input olarak string veriliyor ve bizim bundan ,name,age gibi bilgileri kendimiz çıkarmamız gerekiyor."
   ]
  },
  {
   "cell_type": "code",
   "execution_count": 79,
   "id": "b8c2b405",
   "metadata": {},
   "outputs": [],
   "source": [
    "emp_1_str=\"James-Hughes-32-5000\""
   ]
  },
  {
   "cell_type": "code",
   "execution_count": 80,
   "id": "46fa0782",
   "metadata": {},
   "outputs": [],
   "source": [
    "emp_2_str=\"Charlie-Brown-22-3000\""
   ]
  },
  {
   "cell_type": "code",
   "execution_count": 82,
   "id": "b5db2f58",
   "metadata": {},
   "outputs": [],
   "source": [
    "name,last,age,pay= emp_1_str.split(\"-\")"
   ]
  },
  {
   "cell_type": "code",
   "execution_count": 83,
   "id": "d96ab75b",
   "metadata": {},
   "outputs": [],
   "source": [
    "emp_1=Employee(name,last,age,pay)"
   ]
  },
  {
   "cell_type": "markdown",
   "id": "e874e19c",
   "metadata": {},
   "source": [
    "* Ama belki her zaman bu şekilde vermeyeğiz. String olarak input geldiğinde objenin bu şekilde oluşması için başka nasıl bir mekanizma kullanabilirim ?"
   ]
  },
  {
   "cell_type": "markdown",
   "id": "bea91685",
   "metadata": {},
   "source": [
    "* Her seferinde kendim parse etmek yerine bunu bir method olarak yazabilirim\n"
   ]
  },
  {
   "cell_type": "code",
   "execution_count": 84,
   "id": "fb1f6fce",
   "metadata": {},
   "outputs": [],
   "source": [
    "class Employee:\n",
    "    \n",
    "    raise_percent = 1.05\n",
    "    num_emp = 0 \n",
    "    \n",
    "    def __init__(self,name,last,age,pay):\n",
    "        self.name=name\n",
    "        self.last=last\n",
    "        self.age=age\n",
    "        self.pay=pay\n",
    "        Employee.num_emp += 1\n",
    "        \n",
    "    def apply_raise(self):\n",
    "        self.pay = self.pay * self.raise_percent\n",
    "        \n",
    "    @classmethod    \n",
    "    def set_raise(cls,amount):\n",
    "        cls.raise_percent = amount\n",
    "        \n",
    "    @classmethod    \n",
    "    def from_string(cls,emp_str):\n",
    "        name,last,age,pay= emp_str.split(\"-\")\n",
    "        return cls(name,last,int(age),float(pay)) # yeni çalışan olarak döndürücek"
   ]
  },
  {
   "cell_type": "code",
   "execution_count": 85,
   "id": "ff5954ec",
   "metadata": {},
   "outputs": [],
   "source": [
    "emp_1_str=\"James-Hughes-32-5000\""
   ]
  },
  {
   "cell_type": "code",
   "execution_count": 86,
   "id": "abf8d17e",
   "metadata": {},
   "outputs": [],
   "source": [
    "emp_2_str=\"Charlie-Brown-22-3000\""
   ]
  },
  {
   "cell_type": "code",
   "execution_count": 87,
   "id": "10553722",
   "metadata": {},
   "outputs": [],
   "source": [
    "emp_1 = Employee.from_string(emp_1_str)"
   ]
  },
  {
   "cell_type": "code",
   "execution_count": 89,
   "id": "2920f9d3",
   "metadata": {},
   "outputs": [
    {
     "data": {
      "text/plain": [
       "{'name': 'James', 'last': 'Hughes', 'age': 32, 'pay': 5000.0}"
      ]
     },
     "execution_count": 89,
     "metadata": {},
     "output_type": "execute_result"
    }
   ],
   "source": [
    "emp_1.__dict__"
   ]
  },
  {
   "cell_type": "code",
   "execution_count": null,
   "id": "82646873",
   "metadata": {},
   "outputs": [],
   "source": []
  }
 ],
 "metadata": {
  "kernelspec": {
   "display_name": "“passion”",
   "language": "python",
   "name": "myenv"
  },
  "language_info": {
   "codemirror_mode": {
    "name": "ipython",
    "version": 3
   },
   "file_extension": ".py",
   "mimetype": "text/x-python",
   "name": "python",
   "nbconvert_exporter": "python",
   "pygments_lexer": "ipython3",
   "version": "3.10.4"
  }
 },
 "nbformat": 4,
 "nbformat_minor": 5
}
