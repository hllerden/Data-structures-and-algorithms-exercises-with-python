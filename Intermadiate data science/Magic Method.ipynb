{
 "cells": [
  {
   "cell_type": "markdown",
   "id": "345a8f37",
   "metadata": {},
   "source": [
    "# Magic Methods"
   ]
  },
  {
   "cell_type": "markdown",
   "id": "dbaad9a8",
   "metadata": {},
   "source": [
    "* Magic method'ları kullanarak bazi built-in davranışları değiştirebilirz. Magic Method'lar __ile__ çevrilidir. Bunlara dunder method'da denir."
   ]
  },
  {
   "cell_type": "code",
   "execution_count": 1,
   "id": "bfbc8ac2",
   "metadata": {},
   "outputs": [],
   "source": [
    "class Employee:\n",
    "    \n",
    "    raise_percent = 1.05\n",
    "    \n",
    "    def __init__(self,name,last,age,pay):\n",
    "        self.name=name\n",
    "        self.last=last\n",
    "        self.age=age\n",
    "        self.pay=pay\n",
    "        \n",
    "    def apply_raise(self):\n",
    "        self.pay = self.pay * self.raise_percent\n",
    "        "
   ]
  },
  {
   "cell_type": "code",
   "execution_count": 2,
   "id": "09ee98b0",
   "metadata": {},
   "outputs": [],
   "source": [
    "emp_1 = Employee(\"James\",\"Hughes\",\"32\",5000)"
   ]
  },
  {
   "cell_type": "code",
   "execution_count": 3,
   "id": "dd2ee753",
   "metadata": {},
   "outputs": [],
   "source": [
    "emp_2 = Employee(\"Charlie\",\"Brown\",\"22\",3000)"
   ]
  },
  {
   "cell_type": "markdown",
   "id": "a570bbc8",
   "metadata": {},
   "source": [
    "## __init__()"
   ]
  },
  {
   "cell_type": "markdown",
   "id": "c78671a5",
   "metadata": {},
   "source": [
    "`emp_1 = Employee(\"James\",\"Hughes\",\"32\",5000)` gibi class'dan obje oluşturma kısmında çağırılır. Class(...)formatında input olarak verilenleri argüman olarak kendine alır."
   ]
  },
  {
   "cell_type": "markdown",
   "id": "38cc14c0",
   "metadata": {},
   "source": [
    "## __str__()"
   ]
  },
  {
   "cell_type": "markdown",
   "id": "6979abfa",
   "metadata": {},
   "source": [
    "* Objenin okunabilir bir tanımını oluşturur"
   ]
  },
  {
   "cell_type": "code",
   "execution_count": 6,
   "id": "108901ac",
   "metadata": {},
   "outputs": [],
   "source": [
    "class Employee:\n",
    "    \n",
    "    raise_percent = 1.05\n",
    "    \n",
    "    def __init__(self,name,last,age,pay):\n",
    "        self.name=name\n",
    "        self.last=last\n",
    "        self.age=age\n",
    "        self.pay=pay\n",
    "        \n",
    "    def apply_raise(self):\n",
    "        self.pay = self.pay * self.raise_percent\n",
    "    \n",
    "    def __str__(self):\n",
    "        return f\"Employee : (name={self.name}, last={self.last}, age={self.age}, pay={self.pay})\""
   ]
  },
  {
   "cell_type": "code",
   "execution_count": 7,
   "id": "dd588ea4",
   "metadata": {},
   "outputs": [],
   "source": [
    "emp_1 = Employee(\"James\",\"Hughes\",\"32\",5000)"
   ]
  },
  {
   "cell_type": "code",
   "execution_count": 9,
   "id": "05684862",
   "metadata": {},
   "outputs": [
    {
     "name": "stdout",
     "output_type": "stream",
     "text": [
      "Employee(name=James, last=Hughes, age=32, pay=5000)\n"
     ]
    }
   ],
   "source": [
    "print(emp_1)"
   ]
  },
  {
   "cell_type": "markdown",
   "id": "55e2054c",
   "metadata": {},
   "source": [
    "##  __add__()"
   ]
  },
  {
   "cell_type": "code",
   "execution_count": 12,
   "id": "9bbd9278",
   "metadata": {},
   "outputs": [],
   "source": [
    "class Employee:\n",
    "    \n",
    "    raise_percent = 1.05\n",
    "    \n",
    "    def __init__(self,name,last,age,pay):\n",
    "        self.name=name\n",
    "        self.last=last\n",
    "        self.age=age\n",
    "        self.pay=pay\n",
    "        \n",
    "    def apply_raise(self):\n",
    "        self.pay = self.pay * self.raise_percent\n",
    "    \n",
    "    def __str__(self):\n",
    "        return f\"Employee : (name={self.name}, last={self.last}, age={self.age}, pay={self.pay})\"\n",
    "    \n",
    "    def __add__(self,other):\n",
    "        return self.pay + other.pay"
   ]
  },
  {
   "cell_type": "code",
   "execution_count": 18,
   "id": "0ddc1b2a",
   "metadata": {},
   "outputs": [],
   "source": [
    "emp_1 = Employee(\"James\",\"Hughes\",\"32\",5000)"
   ]
  },
  {
   "cell_type": "code",
   "execution_count": 14,
   "id": "46365e11",
   "metadata": {},
   "outputs": [],
   "source": [
    "emp_2 = Employee(\"Charlie\",\"Brown\",\"22\",3000)"
   ]
  },
  {
   "cell_type": "code",
   "execution_count": 15,
   "id": "5c38f25a",
   "metadata": {},
   "outputs": [
    {
     "data": {
      "text/plain": [
       "8000"
      ]
     },
     "execution_count": 15,
     "metadata": {},
     "output_type": "execute_result"
    }
   ],
   "source": [
    "emp_1 + emp_2"
   ]
  },
  {
   "cell_type": "markdown",
   "id": "639fbf19",
   "metadata": {},
   "source": [
    "## **__len__()**"
   ]
  },
  {
   "cell_type": "code",
   "execution_count": 16,
   "id": "9f865cf8",
   "metadata": {},
   "outputs": [],
   "source": [
    "class Employee:\n",
    "    \n",
    "    raise_percent = 1.05\n",
    "    \n",
    "    def __init__(self,name,last,age,pay):\n",
    "        self.name=name\n",
    "        self.last=last\n",
    "        self.age=age\n",
    "        self.pay=pay\n",
    "        \n",
    "    def apply_raise(self):\n",
    "        self.pay = self.pay * self.raise_percent\n",
    "    \n",
    "    def __str__(self):\n",
    "        return f\"Employee : (name={self.name}, last={self.last}, age={self.age}, pay={self.pay})\"\n",
    "    \n",
    "    def __add__(self,other):\n",
    "        return self.pay + other.pay\n",
    "    \n",
    "    def __len__(self):\n",
    "        return len(self.name)"
   ]
  },
  {
   "cell_type": "code",
   "execution_count": 19,
   "id": "5a90395d",
   "metadata": {},
   "outputs": [
    {
     "data": {
      "text/plain": [
       "5"
      ]
     },
     "execution_count": 19,
     "metadata": {},
     "output_type": "execute_result"
    }
   ],
   "source": [
    "len(emp_1)"
   ]
  },
  {
   "cell_type": "code",
   "execution_count": null,
   "id": "5d3d5e21",
   "metadata": {},
   "outputs": [],
   "source": []
  }
 ],
 "metadata": {
  "kernelspec": {
   "display_name": "“passion”",
   "language": "python",
   "name": "myenv"
  },
  "language_info": {
   "codemirror_mode": {
    "name": "ipython",
    "version": 3
   },
   "file_extension": ".py",
   "mimetype": "text/x-python",
   "name": "python",
   "nbconvert_exporter": "python",
   "pygments_lexer": "ipython3",
   "version": "3.9.15"
  }
 },
 "nbformat": 4,
 "nbformat_minor": 5
}
