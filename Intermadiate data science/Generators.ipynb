{
 "cells": [
  {
   "cell_type": "markdown",
   "id": "db253853",
   "metadata": {},
   "source": [
    "# Generators"
   ]
  },
  {
   "cell_type": "markdown",
   "id": "47d0b3f3",
   "metadata": {},
   "source": [
    "* Diyelim ki elimdeki bir listenin elemanlarının karesini almak istiyorum"
   ]
  },
  {
   "cell_type": "code",
   "execution_count": 3,
   "id": "147b426d",
   "metadata": {},
   "outputs": [],
   "source": [
    "def square(l):\n",
    "    res=[]\n",
    "    \n",
    "    for e in l:\n",
    "        res.append(e*e)\n",
    "    return res"
   ]
  },
  {
   "cell_type": "code",
   "execution_count": 4,
   "id": "e3e53efd",
   "metadata": {},
   "outputs": [
    {
     "data": {
      "text/plain": [
       "[1, 4, 9]"
      ]
     },
     "execution_count": 4,
     "metadata": {},
     "output_type": "execute_result"
    }
   ],
   "source": [
    "l = [1,2,3]\n",
    "square(l)"
   ]
  },
  {
   "cell_type": "markdown",
   "id": "f8e4cf0b",
   "metadata": {},
   "source": [
    "* peki bu değerleri bir anda istemedem de , ben sordukça üretip bana döndürse ?"
   ]
  },
  {
   "cell_type": "markdown",
   "id": "eb27065e",
   "metadata": {},
   "source": [
    "* Bunu generator mantığı ile yapabiliriz\n"
   ]
  },
  {
   "cell_type": "code",
   "execution_count": 5,
   "id": "68ef0786",
   "metadata": {},
   "outputs": [],
   "source": [
    "def square_generator(l):\n",
    "    for e in l:\n",
    "        yield e*e"
   ]
  },
  {
   "cell_type": "code",
   "execution_count": 10,
   "id": "bce29392",
   "metadata": {},
   "outputs": [],
   "source": [
    "l = [1,2,3]\n",
    "g = square_generator(l)"
   ]
  },
  {
   "cell_type": "code",
   "execution_count": 11,
   "id": "c07f10c8",
   "metadata": {},
   "outputs": [
    {
     "data": {
      "text/plain": [
       "<generator object square_generator at 0x7f72d83202e0>"
      ]
     },
     "execution_count": 11,
     "metadata": {},
     "output_type": "execute_result"
    }
   ],
   "source": [
    "g"
   ]
  },
  {
   "cell_type": "markdown",
   "id": "a1f287e1",
   "metadata": {},
   "source": [
    "- Generator'lar bütün cevabı hafızasında tutmazlar, biz sordukça değerleri dödnürürler."
   ]
  },
  {
   "cell_type": "markdown",
   "id": "9fe14be0",
   "metadata": {},
   "source": [
    "* Generator'lar iterator'dır. `next` ile sonraki değere erişebiliriz\n"
   ]
  },
  {
   "cell_type": "code",
   "execution_count": 12,
   "id": "d771b406",
   "metadata": {},
   "outputs": [
    {
     "data": {
      "text/plain": [
       "1"
      ]
     },
     "execution_count": 12,
     "metadata": {},
     "output_type": "execute_result"
    }
   ],
   "source": [
    "next(g)"
   ]
  },
  {
   "cell_type": "code",
   "execution_count": 13,
   "id": "0f0bb22a",
   "metadata": {},
   "outputs": [
    {
     "data": {
      "text/plain": [
       "4"
      ]
     },
     "execution_count": 13,
     "metadata": {},
     "output_type": "execute_result"
    }
   ],
   "source": [
    "next(g)"
   ]
  },
  {
   "cell_type": "code",
   "execution_count": 14,
   "id": "6584df24",
   "metadata": {},
   "outputs": [
    {
     "data": {
      "text/plain": [
       "9"
      ]
     },
     "execution_count": 14,
     "metadata": {},
     "output_type": "execute_result"
    }
   ],
   "source": [
    "next(g)"
   ]
  },
  {
   "cell_type": "code",
   "execution_count": 15,
   "id": "a13ac887",
   "metadata": {},
   "outputs": [
    {
     "ename": "StopIteration",
     "evalue": "",
     "output_type": "error",
     "traceback": [
      "\u001b[0;31m---------------------------------------------------------------------------\u001b[0m",
      "\u001b[0;31mStopIteration\u001b[0m                             Traceback (most recent call last)",
      "Cell \u001b[0;32mIn[15], line 1\u001b[0m\n\u001b[0;32m----> 1\u001b[0m \u001b[38;5;28;43mnext\u001b[39;49m\u001b[43m(\u001b[49m\u001b[43mg\u001b[49m\u001b[43m)\u001b[49m\n",
      "\u001b[0;31mStopIteration\u001b[0m: "
     ]
    }
   ],
   "source": [
    "next(g)"
   ]
  },
  {
   "cell_type": "code",
   "execution_count": 16,
   "id": "0c7cac7c",
   "metadata": {},
   "outputs": [],
   "source": [
    "# exhaust'oldu. bir daha baştan başlamak istiyorsam tekrardan yaratmam lazım.\n",
    "for res in g:\n",
    "    print(res)"
   ]
  },
  {
   "cell_type": "code",
   "execution_count": 18,
   "id": "8488f8a6",
   "metadata": {},
   "outputs": [],
   "source": [
    "g = square_generator(l)"
   ]
  },
  {
   "cell_type": "code",
   "execution_count": 19,
   "id": "57c90e77",
   "metadata": {
    "scrolled": true
   },
   "outputs": [
    {
     "name": "stdout",
     "output_type": "stream",
     "text": [
      "1\n",
      "4\n",
      "9\n"
     ]
    }
   ],
   "source": [
    "for res in g:\n",
    "    print(res)"
   ]
  },
  {
   "cell_type": "markdown",
   "id": "1ef54a57",
   "metadata": {},
   "source": [
    "## List Comprehension Oluşturur Gibi Generator Oluşturma"
   ]
  },
  {
   "cell_type": "code",
   "execution_count": 20,
   "id": "bc2e32c0",
   "metadata": {},
   "outputs": [],
   "source": [
    "l = [x*x for x in [1,2,3,4,5]]"
   ]
  },
  {
   "cell_type": "code",
   "execution_count": 21,
   "id": "5c9775e1",
   "metadata": {},
   "outputs": [
    {
     "data": {
      "text/plain": [
       "[1, 4, 9, 16, 25]"
      ]
     },
     "execution_count": 21,
     "metadata": {},
     "output_type": "execute_result"
    }
   ],
   "source": [
    "l"
   ]
  },
  {
   "cell_type": "code",
   "execution_count": 33,
   "id": "c53f700d",
   "metadata": {},
   "outputs": [],
   "source": [
    "g = (x*x for x in [1,2,3,4,5])"
   ]
  },
  {
   "cell_type": "code",
   "execution_count": 34,
   "id": "197613cf",
   "metadata": {},
   "outputs": [
    {
     "data": {
      "text/plain": [
       "<generator object <genexpr> at 0x7f72d80066d0>"
      ]
     },
     "execution_count": 34,
     "metadata": {},
     "output_type": "execute_result"
    }
   ],
   "source": [
    "g"
   ]
  },
  {
   "cell_type": "code",
   "execution_count": 35,
   "id": "860faaed",
   "metadata": {},
   "outputs": [
    {
     "data": {
      "text/plain": [
       "1"
      ]
     },
     "execution_count": 35,
     "metadata": {},
     "output_type": "execute_result"
    }
   ],
   "source": [
    "next(g)"
   ]
  },
  {
   "cell_type": "markdown",
   "id": "8f90a76a",
   "metadata": {},
   "source": [
    "## Generator'ı Liste Dönüştürme"
   ]
  },
  {
   "cell_type": "code",
   "execution_count": 36,
   "id": "7255efce",
   "metadata": {},
   "outputs": [],
   "source": [
    "g = (x*x for x in [1,2,3,4,5])"
   ]
  },
  {
   "cell_type": "code",
   "execution_count": 37,
   "id": "c369cf49",
   "metadata": {},
   "outputs": [
    {
     "data": {
      "text/plain": [
       "1"
      ]
     },
     "execution_count": 37,
     "metadata": {},
     "output_type": "execute_result"
    }
   ],
   "source": [
    "next(g)"
   ]
  },
  {
   "cell_type": "code",
   "execution_count": 38,
   "id": "8752d0d5",
   "metadata": {},
   "outputs": [
    {
     "data": {
      "text/plain": [
       "[4, 9, 16, 25]"
      ]
     },
     "execution_count": 38,
     "metadata": {},
     "output_type": "execute_result"
    }
   ],
   "source": [
    "list(g)"
   ]
  },
  {
   "cell_type": "markdown",
   "id": "0e953185",
   "metadata": {},
   "source": [
    "## Generators"
   ]
  },
  {
   "cell_type": "markdown",
   "id": "84cd6d92",
   "metadata": {},
   "source": [
    "* kısa yoldan iterator yaratmamızı sağlar"
   ]
  },
  {
   "cell_type": "markdown",
   "id": "ae8cdabc",
   "metadata": {},
   "source": [
    "* Uğraştıklarımız az elemanlar olunca çok farkını anlamayabiliriz ama fazla sayıda elemanla uğraşırsak, hepsini birden aldığığımızda çok yer kaplar. Generatorlar istendiğinde elemanları döndürdükleri için bu hafıza sorunu oluşmuyor."
   ]
  },
  {
   "cell_type": "markdown",
   "id": "4ec5673a",
   "metadata": {},
   "source": [
    "* `list(generator)` yaptığımız zaman bu özelliği kaybeder"
   ]
  },
  {
   "cell_type": "markdown",
   "id": "4826cb25",
   "metadata": {},
   "source": [
    "## Generator Exercise"
   ]
  },
  {
   "cell_type": "code",
   "execution_count": 39,
   "id": "566fbd86",
   "metadata": {},
   "outputs": [],
   "source": [
    "# range() benzeri fonksiyon oluşturma"
   ]
  },
  {
   "cell_type": "code",
   "execution_count": 41,
   "id": "3ca1c259",
   "metadata": {},
   "outputs": [],
   "source": [
    "def range_generator(start,end,step):\n",
    "    current = start\n",
    "    \n",
    "    while current< end:\n",
    "        yield current\n",
    "        current+=step"
   ]
  },
  {
   "cell_type": "code",
   "execution_count": 42,
   "id": "66e52fdd",
   "metadata": {},
   "outputs": [],
   "source": [
    "r = range_generator(1,20,3)"
   ]
  },
  {
   "cell_type": "code",
   "execution_count": 43,
   "id": "32e6207b",
   "metadata": {},
   "outputs": [
    {
     "data": {
      "text/plain": [
       "1"
      ]
     },
     "execution_count": 43,
     "metadata": {},
     "output_type": "execute_result"
    }
   ],
   "source": [
    "next(r)"
   ]
  },
  {
   "cell_type": "code",
   "execution_count": 44,
   "id": "ac86efd7",
   "metadata": {},
   "outputs": [
    {
     "data": {
      "text/plain": [
       "4"
      ]
     },
     "execution_count": 44,
     "metadata": {},
     "output_type": "execute_result"
    }
   ],
   "source": [
    "next(r)"
   ]
  },
  {
   "cell_type": "code",
   "execution_count": 45,
   "id": "d5eee5d9",
   "metadata": {},
   "outputs": [
    {
     "data": {
      "text/plain": [
       "7"
      ]
     },
     "execution_count": 45,
     "metadata": {},
     "output_type": "execute_result"
    }
   ],
   "source": [
    "next(r)"
   ]
  },
  {
   "cell_type": "code",
   "execution_count": null,
   "id": "5504f8e0",
   "metadata": {},
   "outputs": [],
   "source": [
    "r = range_generator(1,20,3)"
   ]
  }
 ],
 "metadata": {
  "kernelspec": {
   "display_name": "“passion”",
   "language": "python",
   "name": "myenv"
  },
  "language_info": {
   "codemirror_mode": {
    "name": "ipython",
    "version": 3
   },
   "file_extension": ".py",
   "mimetype": "text/x-python",
   "name": "python",
   "nbconvert_exporter": "python",
   "pygments_lexer": "ipython3",
   "version": "3.9.15"
  }
 },
 "nbformat": 4,
 "nbformat_minor": 5
}
