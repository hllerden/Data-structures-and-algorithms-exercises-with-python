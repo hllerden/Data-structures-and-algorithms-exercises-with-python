{
 "cells": [
  {
   "cell_type": "markdown",
   "id": "b5a3aced",
   "metadata": {},
   "source": [
    "# Inheritence "
   ]
  },
  {
   "cell_type": "markdown",
   "id": "8f0ca490",
   "metadata": {},
   "source": [
    "* Inheritence bilgiğimiz başka classlardaki methodlar ve attribute'lara erişmemizi sağlar"
   ]
  },
  {
   "cell_type": "markdown",
   "id": "6f9fb4b3",
   "metadata": {},
   "source": [
    "* Diyelimki farklı tip depertmanda çalışan çalışanları yaratmak istiyorum IT ve HR gibi"
   ]
  },
  {
   "cell_type": "code",
   "execution_count": 26,
   "id": "d667de8f",
   "metadata": {},
   "outputs": [],
   "source": [
    "class Employee:\n",
    "    \n",
    "    raise_percent = 1.05\n",
    "    num_emp = 0 \n",
    "    \n",
    "    def __init__(self,name,last,age,pay):\n",
    "        self.name=name\n",
    "        self.last=last\n",
    "        self.age=age\n",
    "        self.pay=pay\n",
    "        Employee.num_emp += 1\n",
    "        \n",
    "    def apply_raise(self):\n",
    "        self.pay = self.pay * self.raise_percent"
   ]
  },
  {
   "cell_type": "markdown",
   "id": "a587a4af",
   "metadata": {},
   "source": [
    "* Hangi classtan ınheritence etmek istiyorsan parantez içerisinde yazıyoruz"
   ]
  },
  {
   "cell_type": "markdown",
   "id": "cdbfcf3c",
   "metadata": {},
   "source": [
    "* Inheritence ettiğimiz classa **parent/super class**, inherit edene de **child/sub class** deniyor"
   ]
  },
  {
   "cell_type": "code",
   "execution_count": 2,
   "id": "7125b848",
   "metadata": {},
   "outputs": [],
   "source": [
    "emp_1 = Employee(\"James\",\"Hughes\",\"32\",5000)"
   ]
  },
  {
   "cell_type": "code",
   "execution_count": 3,
   "id": "aa2c63ef",
   "metadata": {},
   "outputs": [],
   "source": [
    "emp_2 = Employee(\"Charlie\",\"Brown\",\"22\",3000)"
   ]
  },
  {
   "cell_type": "code",
   "execution_count": 4,
   "id": "e34b13e5",
   "metadata": {},
   "outputs": [],
   "source": [
    "class IT(Employee):\n",
    "    pass"
   ]
  },
  {
   "cell_type": "markdown",
   "id": "773a843e",
   "metadata": {},
   "source": [
    "* IT'nin içine hiçbir şey yazmasak'da. Employee'nin özelliklerine erişim var."
   ]
  },
  {
   "cell_type": "markdown",
   "id": "afb06e57",
   "metadata": {},
   "source": [
    "* IT'nin içerinde bulamazsa aradığını, inherit ettiği yere gidip bakıcak. IT nin içerinde **__init__methodu yok**  o yüzden Employee clasına bakıcak"
   ]
  },
  {
   "cell_type": "code",
   "execution_count": 5,
   "id": "f70dc3c1",
   "metadata": {},
   "outputs": [],
   "source": [
    "it_1 = IT(\"James\",\"Hughes\",\"32\",5000)"
   ]
  },
  {
   "cell_type": "code",
   "execution_count": 6,
   "id": "fb7a495c",
   "metadata": {},
   "outputs": [
    {
     "data": {
      "text/plain": [
       "'James'"
      ]
     },
     "execution_count": 6,
     "metadata": {},
     "output_type": "execute_result"
    }
   ],
   "source": [
    "it_1.name"
   ]
  },
  {
   "cell_type": "code",
   "execution_count": 7,
   "id": "d857cb16",
   "metadata": {},
   "outputs": [
    {
     "name": "stdout",
     "output_type": "stream",
     "text": [
      "Help on class IT in module __main__:\n",
      "\n",
      "class IT(Employee)\n",
      " |  IT(name, last, age, pay)\n",
      " |  \n",
      " |  Method resolution order:\n",
      " |      IT\n",
      " |      Employee\n",
      " |      builtins.object\n",
      " |  \n",
      " |  Methods inherited from Employee:\n",
      " |  \n",
      " |  __init__(self, name, last, age, pay)\n",
      " |      Initialize self.  See help(type(self)) for accurate signature.\n",
      " |  \n",
      " |  apply_raise(self)\n",
      " |  \n",
      " |  ----------------------------------------------------------------------\n",
      " |  Data descriptors inherited from Employee:\n",
      " |  \n",
      " |  __dict__\n",
      " |      dictionary for instance variables (if defined)\n",
      " |  \n",
      " |  __weakref__\n",
      " |      list of weak references to the object (if defined)\n",
      " |  \n",
      " |  ----------------------------------------------------------------------\n",
      " |  Data and other attributes inherited from Employee:\n",
      " |  \n",
      " |  num_emp = 3\n",
      " |  \n",
      " |  raise_percent = 1.05\n",
      "\n"
     ]
    }
   ],
   "source": [
    "help(IT)"
   ]
  },
  {
   "cell_type": "code",
   "execution_count": 9,
   "id": "c8c35b77",
   "metadata": {},
   "outputs": [
    {
     "data": {
      "text/plain": [
       "5000"
      ]
     },
     "execution_count": 9,
     "metadata": {},
     "output_type": "execute_result"
    }
   ],
   "source": [
    "it_1.pay"
   ]
  },
  {
   "cell_type": "code",
   "execution_count": 11,
   "id": "c88ecb1b",
   "metadata": {},
   "outputs": [],
   "source": [
    "it_1.apply_raise()"
   ]
  },
  {
   "cell_type": "code",
   "execution_count": 12,
   "id": "f37501e6",
   "metadata": {},
   "outputs": [
    {
     "data": {
      "text/plain": [
       "5250.0"
      ]
     },
     "execution_count": 12,
     "metadata": {},
     "output_type": "execute_result"
    }
   ],
   "source": [
    "it_1.pay"
   ]
  },
  {
   "cell_type": "markdown",
   "id": "9db49030",
   "metadata": {},
   "source": [
    "* diyelim ki IT'dekilerin yüzdelik maaş değişimi farklı olarak berlirlemek istiyorum."
   ]
  },
  {
   "cell_type": "code",
   "execution_count": 13,
   "id": "7ead4430",
   "metadata": {},
   "outputs": [],
   "source": [
    "class IT(Employee):\n",
    "    raise_percent=1.2"
   ]
  },
  {
   "cell_type": "code",
   "execution_count": 14,
   "id": "e62f423b",
   "metadata": {},
   "outputs": [],
   "source": [
    "it_1 = IT(\"James\",\"Hughes\",\"32\",5000)"
   ]
  },
  {
   "cell_type": "code",
   "execution_count": 15,
   "id": "904e68bc",
   "metadata": {},
   "outputs": [
    {
     "data": {
      "text/plain": [
       "5000"
      ]
     },
     "execution_count": 15,
     "metadata": {},
     "output_type": "execute_result"
    }
   ],
   "source": [
    "it_1.pay"
   ]
  },
  {
   "cell_type": "markdown",
   "id": "4b32fb7c",
   "metadata": {},
   "source": [
    "* Employee'nin raise_percent attribute_unu kullanmak yerine içinde belirttiğimizi kullanıyor. Kendi içerisinde bulabilirse kullanıyor."
   ]
  },
  {
   "cell_type": "code",
   "execution_count": 16,
   "id": "0cbab69c",
   "metadata": {},
   "outputs": [
    {
     "data": {
      "text/plain": [
       "1.2"
      ]
     },
     "execution_count": 16,
     "metadata": {},
     "output_type": "execute_result"
    }
   ],
   "source": [
    "it_1.raise_percent"
   ]
  },
  {
   "cell_type": "code",
   "execution_count": 17,
   "id": "3804a150",
   "metadata": {},
   "outputs": [],
   "source": [
    "it_1.apply_raise()"
   ]
  },
  {
   "cell_type": "code",
   "execution_count": 18,
   "id": "acc445c7",
   "metadata": {},
   "outputs": [
    {
     "data": {
      "text/plain": [
       "6000.0"
      ]
     },
     "execution_count": 18,
     "metadata": {},
     "output_type": "execute_result"
    }
   ],
   "source": [
    "it_1.pay"
   ]
  },
  {
   "cell_type": "markdown",
   "id": "b5550cbf",
   "metadata": {},
   "source": [
    "* IT nin raise_percentini değiştirmek, inherit ettiği yerdekini değiştirmez."
   ]
  },
  {
   "cell_type": "code",
   "execution_count": 19,
   "id": "3b3fadfd",
   "metadata": {},
   "outputs": [
    {
     "data": {
      "text/plain": [
       "1.05"
      ]
     },
     "execution_count": 19,
     "metadata": {},
     "output_type": "execute_result"
    }
   ],
   "source": [
    "Employee.raise_percent"
   ]
  },
  {
   "cell_type": "markdown",
   "id": "0aaa7315",
   "metadata": {},
   "source": [
    "* **subclass**'ta yaptığımız değişiklik parent class'ı etkilemez"
   ]
  },
  {
   "cell_type": "markdown",
   "id": "96bdf45b",
   "metadata": {},
   "source": [
    "* Diyelim ki IT'cilere yeni bir özellik olarak hangi programlama dili bildiklerini de eklemek istiyorum."
   ]
  },
  {
   "cell_type": "code",
   "execution_count": 27,
   "id": "40a05283",
   "metadata": {},
   "outputs": [],
   "source": [
    "class IT(Employee):\n",
    "    \n",
    "    raise_percent = 1.05    \n",
    "    def __init__(self,name,last,age,pay,lang):\n",
    "        self.name=name\n",
    "        self.last=last\n",
    "        self.age=age\n",
    "        self.pay=pay\n",
    "        self.lang=lang\n",
    "        Employee.num_emp += 1\n",
    "        \n"
   ]
  },
  {
   "cell_type": "code",
   "execution_count": 28,
   "id": "0ac17702",
   "metadata": {},
   "outputs": [],
   "source": [
    "it_1 = IT(\"James\",\"Hughes\",\"32\",5000,\"python\")"
   ]
  },
  {
   "cell_type": "code",
   "execution_count": 29,
   "id": "f7ae0e44",
   "metadata": {},
   "outputs": [
    {
     "data": {
      "text/plain": [
       "'python'"
      ]
     },
     "execution_count": 29,
     "metadata": {},
     "output_type": "execute_result"
    }
   ],
   "source": [
    "it_1.lang"
   ]
  },
  {
   "cell_type": "markdown",
   "id": "0f0a01a0",
   "metadata": {},
   "source": [
    "* Ama bunun yerine şöylede yazılabilir."
   ]
  },
  {
   "cell_type": "code",
   "execution_count": 30,
   "id": "e91e9bbf",
   "metadata": {},
   "outputs": [],
   "source": [
    "class IT(Employee):\n",
    "    \n",
    "    raise_percent = 1.2   \n",
    "    def __init__(self,name,last,age,pay,lang):\n",
    "        super().__init__(name,last,age,pay)\n",
    "        self.lang=lang\n"
   ]
  },
  {
   "cell_type": "markdown",
   "id": "ea043b5c",
   "metadata": {},
   "source": [
    "* Böylece aynı kodu tekrar yazmış olduk. Zaten superclass'in init method u yapıyorsa yeniden yazmaya gerek yokç"
   ]
  },
  {
   "cell_type": "code",
   "execution_count": 31,
   "id": "d2884a8d",
   "metadata": {},
   "outputs": [],
   "source": [
    "it_1 = IT(\"James\",\"Hughes\",\"32\",5000,\"python\")"
   ]
  },
  {
   "cell_type": "code",
   "execution_count": 32,
   "id": "9aab7e15",
   "metadata": {},
   "outputs": [
    {
     "data": {
      "text/plain": [
       "{'name': 'James', 'last': 'Hughes', 'age': '32', 'pay': 5000, 'lang': 'python'}"
      ]
     },
     "execution_count": 32,
     "metadata": {},
     "output_type": "execute_result"
    }
   ],
   "source": [
    "it_1.__dict__"
   ]
  },
  {
   "cell_type": "code",
   "execution_count": 34,
   "id": "34bae31f",
   "metadata": {},
   "outputs": [],
   "source": [
    "class IK(Employee):\n",
    "    \n",
    "    raise_percent = 1.2   \n",
    "    def __init__(self,name,last,age,pay,experiance):\n",
    "        super().__init__(name,last,age,pay)\n",
    "        self.experiance=experiance\n",
    "    def print_exp(self):\n",
    "        print(f\"This employee has {self.experiance} years of experiance\")"
   ]
  },
  {
   "cell_type": "code",
   "execution_count": 38,
   "id": "a37f93ff",
   "metadata": {},
   "outputs": [],
   "source": [
    "ik_1 = IK(\"James\",\"Hughes\",\"32\",5000,12)"
   ]
  },
  {
   "cell_type": "code",
   "execution_count": 39,
   "id": "7e7a5036",
   "metadata": {},
   "outputs": [
    {
     "name": "stdout",
     "output_type": "stream",
     "text": [
      "This employee has 12 years of experiance\n"
     ]
    }
   ],
   "source": [
    "ik_1.print_exp()"
   ]
  },
  {
   "cell_type": "code",
   "execution_count": 41,
   "id": "de2d3f25",
   "metadata": {},
   "outputs": [
    {
     "data": {
      "text/plain": [
       "True"
      ]
     },
     "execution_count": 41,
     "metadata": {},
     "output_type": "execute_result"
    }
   ],
   "source": [
    "isinstance(ik_1,IK)"
   ]
  },
  {
   "cell_type": "code",
   "execution_count": 42,
   "id": "c4abcec9",
   "metadata": {},
   "outputs": [
    {
     "data": {
      "text/plain": [
       "True"
      ]
     },
     "execution_count": 42,
     "metadata": {},
     "output_type": "execute_result"
    }
   ],
   "source": [
    "isinstance(ik_1,Employee)"
   ]
  },
  {
   "cell_type": "code",
   "execution_count": 43,
   "id": "fe27a717",
   "metadata": {},
   "outputs": [
    {
     "data": {
      "text/plain": [
       "True"
      ]
     },
     "execution_count": 43,
     "metadata": {},
     "output_type": "execute_result"
    }
   ],
   "source": [
    "issubclass(IK,Employee)"
   ]
  },
  {
   "cell_type": "code",
   "execution_count": 44,
   "id": "26a3a8fa",
   "metadata": {},
   "outputs": [
    {
     "data": {
      "text/plain": [
       "True"
      ]
     },
     "execution_count": 44,
     "metadata": {},
     "output_type": "execute_result"
    }
   ],
   "source": [
    "issubclass(IT,Employee)"
   ]
  },
  {
   "cell_type": "code",
   "execution_count": null,
   "id": "000620b5",
   "metadata": {},
   "outputs": [],
   "source": []
  }
 ],
 "metadata": {
  "kernelspec": {
   "display_name": "“passion”",
   "language": "python",
   "name": "myenv"
  },
  "language_info": {
   "codemirror_mode": {
    "name": "ipython",
    "version": 3
   },
   "file_extension": ".py",
   "mimetype": "text/x-python",
   "name": "python",
   "nbconvert_exporter": "python",
   "pygments_lexer": "ipython3",
   "version": "3.9.15"
  }
 },
 "nbformat": 4,
 "nbformat_minor": 5
}
