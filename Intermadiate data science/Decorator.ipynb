{
 "cells": [
  {
   "cell_type": "code",
   "execution_count": 1,
   "id": "6441e0a6",
   "metadata": {},
   "outputs": [],
   "source": [
    "def print_func():\n",
    "    print(\"hey\")"
   ]
  },
  {
   "cell_type": "code",
   "execution_count": 7,
   "id": "dc786858",
   "metadata": {},
   "outputs": [],
   "source": [
    "def decorator_func(func):\n",
    "    def wrapper_func():\n",
    "        return func()\n",
    "    return wrapper_func"
   ]
  },
  {
   "cell_type": "code",
   "execution_count": 8,
   "id": "248a317a",
   "metadata": {},
   "outputs": [],
   "source": [
    "decorated_print=decorator_func(print_func)"
   ]
  },
  {
   "cell_type": "code",
   "execution_count": 9,
   "id": "0fa2d9ea",
   "metadata": {},
   "outputs": [
    {
     "name": "stdout",
     "output_type": "stream",
     "text": [
      "hey\n"
     ]
    }
   ],
   "source": [
    "decorated_print()"
   ]
  },
  {
   "cell_type": "code",
   "execution_count": 12,
   "id": "c58316c9",
   "metadata": {},
   "outputs": [],
   "source": [
    "def decorator_func(func):\n",
    "    def wrapper_func():\n",
    "        print(f\"the name of the function is {func.__name__}\")\n",
    "        return func()\n",
    "    return wrapper_func\n"
   ]
  },
  {
   "cell_type": "code",
   "execution_count": 13,
   "id": "1d4dd4f7",
   "metadata": {},
   "outputs": [],
   "source": [
    "decorated_print=decorator_func(print_func)"
   ]
  },
  {
   "cell_type": "code",
   "execution_count": 14,
   "id": "cfbd9f6a",
   "metadata": {},
   "outputs": [
    {
     "name": "stdout",
     "output_type": "stream",
     "text": [
      "the name of the function is print_func\n",
      "hey\n"
     ]
    }
   ],
   "source": [
    "decorated_print()"
   ]
  },
  {
   "cell_type": "markdown",
   "id": "c9c41c76",
   "metadata": {},
   "source": [
    "# Aynı şeyi şu şekilde yapabilirdik."
   ]
  },
  {
   "cell_type": "code",
   "execution_count": 18,
   "id": "3cb16910",
   "metadata": {},
   "outputs": [],
   "source": [
    "# şununla aynı:print_func = decorator_func(print_func)\n",
    "@decorator_func\n",
    "def print_func():\n",
    "    print(\"hey\")"
   ]
  },
  {
   "cell_type": "markdown",
   "id": "3a9291a1",
   "metadata": {},
   "source": [
    "@func un yapınca aslında fonksiyonumuzu func'a input olarak veriyoruz"
   ]
  },
  {
   "cell_type": "code",
   "execution_count": 20,
   "id": "cf35a600",
   "metadata": {},
   "outputs": [
    {
     "name": "stdout",
     "output_type": "stream",
     "text": [
      "the name of the function is print_func\n",
      "hey\n"
     ]
    }
   ],
   "source": [
    "print_func()"
   ]
  },
  {
   "cell_type": "code",
   "execution_count": 31,
   "id": "12705565",
   "metadata": {},
   "outputs": [],
   "source": [
    "def func(name,number):\n",
    "     print(f\"Name: {name}, number: {number}\")"
   ]
  },
  {
   "cell_type": "code",
   "execution_count": 32,
   "id": "85ecc68e",
   "metadata": {},
   "outputs": [
    {
     "name": "stdout",
     "output_type": "stream",
     "text": [
      "Name: Jack, number: 102\n"
     ]
    }
   ],
   "source": [
    "func(\"Jack\",102)"
   ]
  },
  {
   "cell_type": "code",
   "execution_count": 28,
   "id": "041df4a3",
   "metadata": {},
   "outputs": [],
   "source": [
    "def decorator_func(func):\n",
    "    def wrapper_func():\n",
    "        print(f\"the name of the function is {func.__name__}\")\n",
    "        return func(*arg)\n",
    "    return wrapper_func\n"
   ]
  },
  {
   "cell_type": "code",
   "execution_count": 33,
   "id": "675282e1",
   "metadata": {},
   "outputs": [],
   "source": [
    "@decorator_func\n",
    "def func(name,number):\n",
    "     print(f\"Name: {name}, number: {number}\")"
   ]
  },
  {
   "cell_type": "code",
   "execution_count": 34,
   "id": "11442bf0",
   "metadata": {},
   "outputs": [
    {
     "ename": "TypeError",
     "evalue": "wrapper_func() takes 0 positional arguments but 2 were given",
     "output_type": "error",
     "traceback": [
      "\u001b[0;31m---------------------------------------------------------------------------\u001b[0m",
      "\u001b[0;31mTypeError\u001b[0m                                 Traceback (most recent call last)",
      "Cell \u001b[0;32mIn[34], line 1\u001b[0m\n\u001b[0;32m----> 1\u001b[0m \u001b[43mfunc\u001b[49m\u001b[43m(\u001b[49m\u001b[38;5;124;43m\"\u001b[39;49m\u001b[38;5;124;43mJack\u001b[39;49m\u001b[38;5;124;43m\"\u001b[39;49m\u001b[43m,\u001b[49m\u001b[38;5;241;43m102\u001b[39;49m\u001b[43m)\u001b[49m\n",
      "\u001b[0;31mTypeError\u001b[0m: wrapper_func() takes 0 positional arguments but 2 were given"
     ]
    }
   ],
   "source": [
    "func(\"Jack\",102)"
   ]
  },
  {
   "cell_type": "markdown",
   "id": "92c76c87",
   "metadata": {},
   "source": [
    "Hatayı almamızın nedeni  @decorator_func olarak yazdığımızda bu demek oluyot ki func=decorator_func(func) oluyor  yani  func fonksiyonunu input olarak decorator_func a verecek. Decorator_func ise kendi içerisindeki wrapper_func u çalıştıracak. \n",
    "Ama wrapper_func herhangi bir argüman almadan açlışan bir fonksiyon.\n",
    "bu yüzden hata veriyor \n",
    "\n",
    "`TypeError: wrapper_func() takes 0 positional arguments but 2 were given`\n",
    "yani  argümansız çalışan bir fonsiyona argüman girildi hatası"
   ]
  },
  {
   "cell_type": "code",
   "execution_count": 41,
   "id": "99ab0db1",
   "metadata": {},
   "outputs": [],
   "source": [
    "## wrapper_func'a argüman girişi verdiğimizde `*args`\n",
    "\n",
    "def decorator_func(func):\n",
    "    def wrapper_func(*args):\n",
    "        print(f\"the name of the function is {func.__name__}\")\n",
    "        return func(*args)\n",
    "    return wrapper_func\n"
   ]
  },
  {
   "cell_type": "code",
   "execution_count": 42,
   "id": "4b748efe",
   "metadata": {},
   "outputs": [],
   "source": [
    "@decorator_func\n",
    "def func(name,number):\n",
    "     print(f\"Name: {name}, number: {number}\")"
   ]
  },
  {
   "cell_type": "code",
   "execution_count": 43,
   "id": "787adca5",
   "metadata": {},
   "outputs": [
    {
     "name": "stdout",
     "output_type": "stream",
     "text": [
      "the name of the function is func\n",
      "Name: Jack, number: 102\n"
     ]
    }
   ],
   "source": [
    "func(\"Jack\",102)"
   ]
  },
  {
   "cell_type": "code",
   "execution_count": null,
   "id": "7ab57d34",
   "metadata": {},
   "outputs": [],
   "source": []
  }
 ],
 "metadata": {
  "kernelspec": {
   "display_name": "“passion”",
   "language": "python",
   "name": "myenv"
  },
  "language_info": {
   "codemirror_mode": {
    "name": "ipython",
    "version": 3
   },
   "file_extension": ".py",
   "mimetype": "text/x-python",
   "name": "python",
   "nbconvert_exporter": "python",
   "pygments_lexer": "ipython3",
   "version": "3.9.15"
  }
 },
 "nbformat": 4,
 "nbformat_minor": 5
}
