{
 "cells": [
  {
   "cell_type": "code",
   "execution_count": 123,
   "id": "f2ac3d8e",
   "metadata": {
    "scrolled": true
   },
   "outputs": [
    {
     "name": "stdout",
     "output_type": "stream",
     "text": [
      "3\n",
      "07895462130\n",
      "919875641230\n",
      "9195969878\n",
      "girdi\n"
     ]
    },
    {
     "ename": "IndexError",
     "evalue": "Replacement index 3 out of range for positional args tuple",
     "output_type": "error",
     "traceback": [
      "\u001b[0;31m---------------------------------------------------------------------------\u001b[0m",
      "\u001b[0;31mIndexError\u001b[0m                                Traceback (most recent call last)",
      "Cell \u001b[0;32mIn[123], line 14\u001b[0m\n\u001b[1;32m     12\u001b[0m \u001b[38;5;28;01mif\u001b[39;00m \u001b[38;5;18m__name__\u001b[39m \u001b[38;5;241m==\u001b[39m \u001b[38;5;124m'\u001b[39m\u001b[38;5;124m__main__\u001b[39m\u001b[38;5;124m'\u001b[39m:\n\u001b[1;32m     13\u001b[0m     l \u001b[38;5;241m=\u001b[39m [\u001b[38;5;28minput\u001b[39m() \u001b[38;5;28;01mfor\u001b[39;00m _ \u001b[38;5;129;01min\u001b[39;00m \u001b[38;5;28mrange\u001b[39m(\u001b[38;5;28mint\u001b[39m(\u001b[38;5;28minput\u001b[39m()))]\n\u001b[0;32m---> 14\u001b[0m     \u001b[43msort_phone\u001b[49m\u001b[43m(\u001b[49m\u001b[43ml\u001b[49m\u001b[43m)\u001b[49m \n",
      "Cell \u001b[0;32mIn[123], line 5\u001b[0m, in \u001b[0;36mwrapper.<locals>.fun\u001b[0;34m(l)\u001b[0m\n\u001b[1;32m      2\u001b[0m \u001b[38;5;28;01mdef\u001b[39;00m \u001b[38;5;21mfun\u001b[39m(l):\n\u001b[1;32m      3\u001b[0m     \u001b[38;5;66;03m# complete the function\u001b[39;00m\n\u001b[1;32m      4\u001b[0m     \u001b[38;5;28mprint\u001b[39m(\u001b[38;5;124m\"\u001b[39m\u001b[38;5;124mgirdi\u001b[39m\u001b[38;5;124m\"\u001b[39m)\n\u001b[0;32m----> 5\u001b[0m     \u001b[38;5;28;01mreturn\u001b[39;00m \u001b[38;5;28mmap\u001b[39m(f,\u001b[38;5;124;43m\"\u001b[39;49m\u001b[38;5;132;43;01m{}\u001b[39;49;00m\u001b[38;5;132;43;01m{}\u001b[39;49;00m\u001b[38;5;132;43;01m{}\u001b[39;49;00m\u001b[38;5;124;43m-\u001b[39;49m\u001b[38;5;132;43;01m{}\u001b[39;49;00m\u001b[38;5;132;43;01m{}\u001b[39;49;00m\u001b[38;5;132;43;01m{}\u001b[39;49;00m\u001b[38;5;124;43m-\u001b[39;49m\u001b[38;5;132;43;01m{}\u001b[39;49;00m\u001b[38;5;132;43;01m{}\u001b[39;49;00m\u001b[38;5;132;43;01m{}\u001b[39;49;00m\u001b[38;5;132;43;01m{}\u001b[39;49;00m\u001b[38;5;124;43m\"\u001b[39;49m\u001b[38;5;241;43m.\u001b[39;49m\u001b[43mformat\u001b[49m\u001b[43m(\u001b[49m\u001b[38;5;241;43m*\u001b[39;49m\u001b[43ml\u001b[49m\u001b[43m)\u001b[49m)\n",
      "\u001b[0;31mIndexError\u001b[0m: Replacement index 3 out of range for positional args tuple"
     ]
    }
   ],
   "source": [
    "def wrapper(f):\n",
    "    def fun(l):\n",
    "        # complete the function\n",
    "        print(\"girdi\")\n",
    "        return map(f,\"{}{}{}-{}{}{}-{}{}{}{}\".format(*l))\n",
    "    return fun\n",
    "\n",
    "@wrapper\n",
    "def sort_phone(l):\n",
    "    print(*sorted(l), sep='\\n')\n",
    "\n",
    "if __name__ == '__main__':\n",
    "    l = [input() for _ in range(int(input()))]\n",
    "    sort_phone(l) \n"
   ]
  },
  {
   "cell_type": "code",
   "execution_count": 106,
   "id": "f7110a5a",
   "metadata": {},
   "outputs": [],
   "source": [
    "l =[['07895462130'],[\"919875641230\"],[\"9195969878\"]]"
   ]
  },
  {
   "cell_type": "code",
   "execution_count": 69,
   "id": "4f4f592c",
   "metadata": {},
   "outputs": [
    {
     "name": "stdout",
     "output_type": "stream",
     "text": [
      "<class 'str'>\n"
     ]
    }
   ],
   "source": [
    "print(type(l[0][0]))"
   ]
  },
  {
   "cell_type": "code",
   "execution_count": 70,
   "id": "b843f3ff",
   "metadata": {},
   "outputs": [
    {
     "name": "stdout",
     "output_type": "stream",
     "text": [
      "07895462130\n"
     ]
    }
   ],
   "source": [
    "print(l[0][0])"
   ]
  },
  {
   "cell_type": "code",
   "execution_count": 71,
   "id": "c0486ba4",
   "metadata": {},
   "outputs": [
    {
     "data": {
      "text/plain": [
       "11"
      ]
     },
     "execution_count": 71,
     "metadata": {},
     "output_type": "execute_result"
    }
   ],
   "source": [
    "len(l[0][0])"
   ]
  },
  {
   "cell_type": "code",
   "execution_count": 87,
   "id": "156a2401",
   "metadata": {},
   "outputs": [
    {
     "name": "stdout",
     "output_type": "stream",
     "text": [
      "11\n",
      "['0', '7', '8', '9', '5', '4', '6', '2', '1', '3', '0']\n",
      "12\n",
      "['9', '1', '9', '8', '7', '5', '6', '4', '1', '2', '3', '0']\n",
      "10\n",
      "['9', '1', '9', '5', '9', '6', '9', '8', '7', '8']\n"
     ]
    }
   ],
   "source": [
    "for i in range(len(l)):\n",
    "    print(len(l[i][0]))\n",
    "    print(l[i][0])\n",
    "    l[i][0]=list(map(str,l[i][0]))\n",
    "    \n",
    "    while len(l[i][0])>10:\n",
    "        del l[i][0][0]    "
   ]
  },
  {
   "cell_type": "code",
   "execution_count": 88,
   "id": "18c346a3",
   "metadata": {},
   "outputs": [
    {
     "name": "stdout",
     "output_type": "stream",
     "text": [
      "[[['7', '8', '9', '5', '4', '6', '2', '1', '3', '0']], [['9', '8', '7', '5', '6', '4', '1', '2', '3', '0']], [['9', '1', '9', '5', '9', '6', '9', '8', '7', '8']]]\n"
     ]
    }
   ],
   "source": [
    "print(l)"
   ]
  },
  {
   "cell_type": "code",
   "execution_count": 93,
   "id": "4c2ad0c9",
   "metadata": {},
   "outputs": [
    {
     "name": "stdout",
     "output_type": "stream",
     "text": [
      "['7', '8', '9', '5', '4', '6', '2', '1', '3', '0']\n"
     ]
    }
   ],
   "source": [
    "print(l[0][0])"
   ]
  },
  {
   "cell_type": "code",
   "execution_count": 94,
   "id": "ac750457",
   "metadata": {},
   "outputs": [
    {
     "name": "stdout",
     "output_type": "stream",
     "text": [
      "10\n"
     ]
    }
   ],
   "source": [
    "print(len(l[0][0]))\n"
   ]
  },
  {
   "cell_type": "code",
   "execution_count": 100,
   "id": "f901af85",
   "metadata": {},
   "outputs": [
    {
     "data": {
      "text/plain": [
       "[['7', '8', '9', '5', '4', '6', '2', '1', '3', '0']]"
      ]
     },
     "execution_count": 100,
     "metadata": {},
     "output_type": "execute_result"
    }
   ],
   "source": [
    "l[0]"
   ]
  },
  {
   "cell_type": "code",
   "execution_count": 101,
   "id": "d25ac78b",
   "metadata": {},
   "outputs": [
    {
     "data": {
      "text/plain": [
       "0.08235294117647059"
      ]
     },
     "execution_count": 101,
     "metadata": {},
     "output_type": "execute_result"
    }
   ],
   "source": [
    "1400/17000\n"
   ]
  },
  {
   "cell_type": "code",
   "execution_count": 127,
   "id": "11ee30e6",
   "metadata": {},
   "outputs": [
    {
     "ename": "NameError",
     "evalue": "name 'f' is not defined",
     "output_type": "error",
     "traceback": [
      "\u001b[0;31m---------------------------------------------------------------------------\u001b[0m",
      "\u001b[0;31mNameError\u001b[0m                                 Traceback (most recent call last)",
      "Cell \u001b[0;32mIn[127], line 2\u001b[0m\n\u001b[1;32m      1\u001b[0m \u001b[38;5;28;01mfor\u001b[39;00m c \u001b[38;5;129;01min\u001b[39;00m l :\n\u001b[0;32m----> 2\u001b[0m     \u001b[43mf\u001b[49m([\u001b[38;5;124m\"\u001b[39m\u001b[38;5;124m+91 \u001b[39m\u001b[38;5;124m\"\u001b[39m\u001b[38;5;241m+\u001b[39mc[\u001b[38;5;241m-\u001b[39m\u001b[38;5;241m5\u001b[39m:]])\n\u001b[1;32m      3\u001b[0m     \u001b[38;5;66;03m#print(\"++\"c[-5:])\u001b[39;00m\n",
      "\u001b[0;31mNameError\u001b[0m: name 'f' is not defined"
     ]
    }
   ],
   "source": [
    "for c in l :\n",
    "    f([\"+91 \"+c[-5:]])\n",
    "    #print(\"++\"c[-5:])"
   ]
  },
  {
   "cell_type": "code",
   "execution_count": 128,
   "id": "aee6ecc9",
   "metadata": {},
   "outputs": [
    {
     "data": {
      "text/plain": [
       "'Onun adı Buğra ve o 18 yaşında.'"
      ]
     },
     "execution_count": 128,
     "metadata": {},
     "output_type": "execute_result"
    }
   ],
   "source": [
    "isim = 'Buğra'\n",
    "\n",
    "yas = 18\n",
    "\n",
    "\"Onun adı {} ve o {} yaşında.\".format(isim, yas)"
   ]
  },
  {
   "cell_type": "code",
   "execution_count": 129,
   "id": "a73e74d3",
   "metadata": {},
   "outputs": [
    {
     "data": {
      "text/plain": [
       "'Rakamların toplamı 8 eder.'"
      ]
     },
     "execution_count": 129,
     "metadata": {},
     "output_type": "execute_result"
    }
   ],
   "source": [
    "birinci_rakam = 5\n",
    "\n",
    "ikinci_rakam = 3\n",
    "\n",
    "f'Rakamların toplamı {birinci_rakam + ikinci_rakam} eder.'"
   ]
  },
  {
   "cell_type": "code",
   "execution_count": 135,
   "id": "4eac38d1",
   "metadata": {
    "scrolled": true
   },
   "outputs": [
    {
     "name": "stdout",
     "output_type": "stream",
     "text": [
      "07895462130\n",
      "+91  62130\n",
      "919875641230\n",
      "+91  41230\n",
      "9195969878\n",
      "+91  69878\n"
     ]
    }
   ],
   "source": [
    "for c in l :\n",
    "    print(c)\n",
    "    print(f\"+91 \",c[-5:])\n",
    "    #print(\"++\"c[-5:])"
   ]
  },
  {
   "cell_type": "code",
   "execution_count": null,
   "id": "b5a959ae",
   "metadata": {},
   "outputs": [],
   "source": []
  }
 ],
 "metadata": {
  "kernelspec": {
   "display_name": "“passion”",
   "language": "python",
   "name": "myenv"
  },
  "language_info": {
   "codemirror_mode": {
    "name": "ipython",
    "version": 3
   },
   "file_extension": ".py",
   "mimetype": "text/x-python",
   "name": "python",
   "nbconvert_exporter": "python",
   "pygments_lexer": "ipython3",
   "version": "3.9.15"
  }
 },
 "nbformat": 4,
 "nbformat_minor": 5
}
